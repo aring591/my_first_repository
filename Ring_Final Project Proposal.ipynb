{
 "cells": [
  {
   "cell_type": "markdown",
   "metadata": {},
   "source": [
    "# Is Houston Sinking?"
   ]
  },
  {
   "cell_type": "markdown",
   "metadata": {},
   "source": [
    "For years, Houston, Texas has been losing ground which makes parts of Houston more prone to floods and flood damage. The reason for this is [subsidence](https://water.usgs.gov/ogw/subsidence.html). Subsidence is a \"gradual settling or sudden sinking of the Earth due to subsurface movements of earth materials.\" Houston experienced this phenomenon first when liquid gold (aka oil) was pumped from the layers of sediment and rock underground. When a liquid is extracted from the ground, all of the layers smash together and the ground sinks down. Now, most subsidence of Houston is caused by extracting water for drinking or agricultural use from the layers of sediment. In my project, I will further explain and give example of subsidence, as an introduction.   \n",
    "\n",
    "Many parts of Houston and the surrounding suburbs already sit below sea-level, so subsidence further increases the chances of flooding if even a slight rainfall occurs. \n",
    "\n",
    "However, many people still refuse to notice this effect and not much is being done. My project will use subsidence data to answer the question once and for all - is Houston sinking? In other words, is there a clear trend of subsidence in the majority of Houston? \n",
    "\n",
    "Data on subsidence exists in 13 areas across Houston. I will figure out which area has the most subsidence in 2016, and which has had the fastest ground sinking.  \n",
    "\n",
    "Lastly, I will create a map showing where subsidence is the worst in the greater Houston area. "
   ]
  },
  {
   "cell_type": "markdown",
   "metadata": {},
   "source": [
    "# Data Report "
   ]
  },
  {
   "cell_type": "code",
   "execution_count": 2,
   "metadata": {
    "collapsed": true
   },
   "outputs": [],
   "source": [
    "import pandas as pd\n",
    "import matplotlib.pyplot as plt  "
   ]
  },
  {
   "cell_type": "code",
   "execution_count": 14,
   "metadata": {
    "collapsed": true
   },
   "outputs": [],
   "source": [
    "import os"
   ]
  },
  {
   "cell_type": "code",
   "execution_count": 15,
   "metadata": {
    "scrolled": true
   },
   "outputs": [
    {
     "data": {
      "text/plain": [
       "'/Users/avaring/Documents/Data Bootcamp'"
      ]
     },
     "execution_count": 15,
     "metadata": {},
     "output_type": "execute_result"
    }
   ],
   "source": [
    "os.getcwd()"
   ]
  },
  {
   "cell_type": "code",
   "execution_count": 16,
   "metadata": {},
   "outputs": [],
   "source": [
    "my_path = \"/Users/avaring/Documents/Data Bootcamp\""
   ]
  },
  {
   "cell_type": "code",
   "execution_count": 17,
   "metadata": {},
   "outputs": [],
   "source": [
    "df = pd.read_excel(my_path + \"/\"+\"Table4A.xlsx\")"
   ]
  },
  {
   "cell_type": "code",
   "execution_count": 21,
   "metadata": {},
   "outputs": [
    {
     "data": {
      "text/html": [
       "<div>\n",
       "<style scoped>\n",
       "    .dataframe tbody tr th:only-of-type {\n",
       "        vertical-align: middle;\n",
       "    }\n",
       "\n",
       "    .dataframe tbody tr th {\n",
       "        vertical-align: top;\n",
       "    }\n",
       "\n",
       "    .dataframe thead th {\n",
       "        text-align: right;\n",
       "    }\n",
       "</style>\n",
       "<table border=\"1\" class=\"dataframe\">\n",
       "  <thead>\n",
       "    <tr style=\"text-align: right;\">\n",
       "      <th></th>\n",
       "      <th>Table 4A.  Data for sheet 16, measured compaction of subsurface sediments at the Lake Houston borehole extensometer, 1980–2012.</th>\n",
       "      <th>Unnamed: 1</th>\n",
       "      <th>Unnamed: 2</th>\n",
       "      <th>Unnamed: 3</th>\n",
       "    </tr>\n",
       "  </thead>\n",
       "  <tbody>\n",
       "    <tr>\n",
       "      <th>0</th>\n",
       "      <td>Cumulative compaction for the Lake Houston ...</td>\n",
       "      <td>NaN</td>\n",
       "      <td>NaN</td>\n",
       "      <td>NaN</td>\n",
       "    </tr>\n",
       "    <tr>\n",
       "      <th>1</th>\n",
       "      <td>U.S. Geological Survey site nu...</td>\n",
       "      <td>NaN</td>\n",
       "      <td>NaN</td>\n",
       "      <td>NaN</td>\n",
       "    </tr>\n",
       "    <tr>\n",
       "      <th>2</th>\n",
       "      <td>Measurement date</td>\n",
       "      <td>NaN</td>\n",
       "      <td>Compaction (feet)</td>\n",
       "      <td>NaN</td>\n",
       "    </tr>\n",
       "    <tr>\n",
       "      <th>3</th>\n",
       "      <td>1980-07-22 00:00:00</td>\n",
       "      <td>NaN</td>\n",
       "      <td>0</td>\n",
       "      <td>NaN</td>\n",
       "    </tr>\n",
       "    <tr>\n",
       "      <th>4</th>\n",
       "      <td>1980-08-19 00:00:00</td>\n",
       "      <td>NaN</td>\n",
       "      <td>0.008</td>\n",
       "      <td>NaN</td>\n",
       "    </tr>\n",
       "    <tr>\n",
       "      <th>5</th>\n",
       "      <td>1980-09-16 00:00:00</td>\n",
       "      <td>NaN</td>\n",
       "      <td>0.014</td>\n",
       "      <td>NaN</td>\n",
       "    </tr>\n",
       "    <tr>\n",
       "      <th>6</th>\n",
       "      <td>1980-10-14 00:00:00</td>\n",
       "      <td>NaN</td>\n",
       "      <td>0.002</td>\n",
       "      <td>NaN</td>\n",
       "    </tr>\n",
       "    <tr>\n",
       "      <th>7</th>\n",
       "      <td>1980-11-10 00:00:00</td>\n",
       "      <td>NaN</td>\n",
       "      <td>0.025</td>\n",
       "      <td>NaN</td>\n",
       "    </tr>\n",
       "    <tr>\n",
       "      <th>8</th>\n",
       "      <td>1980-12-09 00:00:00</td>\n",
       "      <td>NaN</td>\n",
       "      <td>0.026</td>\n",
       "      <td>NaN</td>\n",
       "    </tr>\n",
       "    <tr>\n",
       "      <th>9</th>\n",
       "      <td>1981-01-06 00:00:00</td>\n",
       "      <td>NaN</td>\n",
       "      <td>0.003</td>\n",
       "      <td>NaN</td>\n",
       "    </tr>\n",
       "    <tr>\n",
       "      <th>10</th>\n",
       "      <td>1981-02-05 00:00:00</td>\n",
       "      <td>NaN</td>\n",
       "      <td>0.032</td>\n",
       "      <td>NaN</td>\n",
       "    </tr>\n",
       "    <tr>\n",
       "      <th>11</th>\n",
       "      <td>1981-03-05 00:00:00</td>\n",
       "      <td>NaN</td>\n",
       "      <td>0.034</td>\n",
       "      <td>NaN</td>\n",
       "    </tr>\n",
       "    <tr>\n",
       "      <th>12</th>\n",
       "      <td>1981-03-30 00:00:00</td>\n",
       "      <td>NaN</td>\n",
       "      <td>0.038</td>\n",
       "      <td>NaN</td>\n",
       "    </tr>\n",
       "    <tr>\n",
       "      <th>13</th>\n",
       "      <td>1981-04-27 00:00:00</td>\n",
       "      <td>NaN</td>\n",
       "      <td>0.045</td>\n",
       "      <td>NaN</td>\n",
       "    </tr>\n",
       "    <tr>\n",
       "      <th>14</th>\n",
       "      <td>1981-05-27 00:00:00</td>\n",
       "      <td>NaN</td>\n",
       "      <td>0.048</td>\n",
       "      <td>NaN</td>\n",
       "    </tr>\n",
       "  </tbody>\n",
       "</table>\n",
       "</div>"
      ],
      "text/plain": [
       "   Table 4A.  Data for sheet 16, measured compaction of subsurface sediments at the Lake Houston borehole extensometer, 1980–2012.  \\\n",
       "0      Cumulative compaction for the Lake Houston ...                                                                                \n",
       "1                   U.S. Geological Survey site nu...                                                                                \n",
       "2                                    Measurement date                                                                                \n",
       "3                                 1980-07-22 00:00:00                                                                                \n",
       "4                                 1980-08-19 00:00:00                                                                                \n",
       "5                                 1980-09-16 00:00:00                                                                                \n",
       "6                                 1980-10-14 00:00:00                                                                                \n",
       "7                                 1980-11-10 00:00:00                                                                                \n",
       "8                                 1980-12-09 00:00:00                                                                                \n",
       "9                                 1981-01-06 00:00:00                                                                                \n",
       "10                                1981-02-05 00:00:00                                                                                \n",
       "11                                1981-03-05 00:00:00                                                                                \n",
       "12                                1981-03-30 00:00:00                                                                                \n",
       "13                                1981-04-27 00:00:00                                                                                \n",
       "14                                1981-05-27 00:00:00                                                                                \n",
       "\n",
       "    Unnamed: 1         Unnamed: 2  Unnamed: 3  \n",
       "0          NaN                NaN         NaN  \n",
       "1          NaN                NaN         NaN  \n",
       "2          NaN  Compaction (feet)         NaN  \n",
       "3          NaN                  0         NaN  \n",
       "4          NaN              0.008         NaN  \n",
       "5          NaN              0.014         NaN  \n",
       "6          NaN              0.002         NaN  \n",
       "7          NaN              0.025         NaN  \n",
       "8          NaN              0.026         NaN  \n",
       "9          NaN              0.003         NaN  \n",
       "10         NaN              0.032         NaN  \n",
       "11         NaN              0.034         NaN  \n",
       "12         NaN              0.038         NaN  \n",
       "13         NaN              0.045         NaN  \n",
       "14         NaN              0.048         NaN  "
      ]
     },
     "execution_count": 21,
     "metadata": {},
     "output_type": "execute_result"
    }
   ],
   "source": [
    "df.head(15)"
   ]
  },
  {
   "cell_type": "code",
   "execution_count": 22,
   "metadata": {},
   "outputs": [
    {
     "data": {
      "text/html": [
       "<div>\n",
       "<style scoped>\n",
       "    .dataframe tbody tr th:only-of-type {\n",
       "        vertical-align: middle;\n",
       "    }\n",
       "\n",
       "    .dataframe tbody tr th {\n",
       "        vertical-align: top;\n",
       "    }\n",
       "\n",
       "    .dataframe thead th {\n",
       "        text-align: right;\n",
       "    }\n",
       "</style>\n",
       "<table border=\"1\" class=\"dataframe\">\n",
       "  <thead>\n",
       "    <tr style=\"text-align: right;\">\n",
       "      <th></th>\n",
       "      <th>Table 4A.  Data for sheet 16, measured compaction of subsurface sediments at the Lake Houston borehole extensometer, 1980–2012.</th>\n",
       "      <th>Unnamed: 1</th>\n",
       "      <th>Unnamed: 2</th>\n",
       "      <th>Unnamed: 3</th>\n",
       "    </tr>\n",
       "  </thead>\n",
       "  <tbody>\n",
       "    <tr>\n",
       "      <th>418</th>\n",
       "      <td>2012-08-06 00:00:00</td>\n",
       "      <td>NaN</td>\n",
       "      <td>0.609</td>\n",
       "      <td>NaN</td>\n",
       "    </tr>\n",
       "    <tr>\n",
       "      <th>419</th>\n",
       "      <td>2012-09-05 00:00:00</td>\n",
       "      <td>NaN</td>\n",
       "      <td>0.612</td>\n",
       "      <td>NaN</td>\n",
       "    </tr>\n",
       "    <tr>\n",
       "      <th>420</th>\n",
       "      <td>2012-10-15 00:00:00</td>\n",
       "      <td>NaN</td>\n",
       "      <td>0.615</td>\n",
       "      <td>NaN</td>\n",
       "    </tr>\n",
       "    <tr>\n",
       "      <th>421</th>\n",
       "      <td>2012-11-07 00:00:00</td>\n",
       "      <td>NaN</td>\n",
       "      <td>0.616</td>\n",
       "      <td>NaN</td>\n",
       "    </tr>\n",
       "    <tr>\n",
       "      <th>422</th>\n",
       "      <td>2012-12-04 00:00:00</td>\n",
       "      <td>NaN</td>\n",
       "      <td>0.617</td>\n",
       "      <td>NaN</td>\n",
       "    </tr>\n",
       "  </tbody>\n",
       "</table>\n",
       "</div>"
      ],
      "text/plain": [
       "    Table 4A.  Data for sheet 16, measured compaction of subsurface sediments at the Lake Houston borehole extensometer, 1980–2012.  \\\n",
       "418                                2012-08-06 00:00:00                                                                                \n",
       "419                                2012-09-05 00:00:00                                                                                \n",
       "420                                2012-10-15 00:00:00                                                                                \n",
       "421                                2012-11-07 00:00:00                                                                                \n",
       "422                                2012-12-04 00:00:00                                                                                \n",
       "\n",
       "     Unnamed: 1 Unnamed: 2  Unnamed: 3  \n",
       "418         NaN      0.609         NaN  \n",
       "419         NaN      0.612         NaN  \n",
       "420         NaN      0.615         NaN  \n",
       "421         NaN      0.616         NaN  \n",
       "422         NaN      0.617         NaN  "
      ]
     },
     "execution_count": 22,
     "metadata": {},
     "output_type": "execute_result"
    }
   ],
   "source": [
    "df.tail()"
   ]
  },
  {
   "cell_type": "markdown",
   "metadata": {},
   "source": [
    "The data above is from USGS and can be found [here](https://pubs.usgs.gov/sim/3365/tables/). It outlines the amount of compaction that has occured over time in one area - Lake Houston. This data is pulled from \"extensometers\" which measure the ground's compaction. I will use this data to measure subsidence in this area and 12 others. The full map of areas that are measured can be found [here](https://pubs.usgs.gov/of/2003/ofr03-109/pdf/fig14.pdf)."
   ]
  },
  {
   "cell_type": "markdown",
   "metadata": {},
   "source": [
    "Obviously this data needs to be cleaned, so I will start there. Once the data frame is cleaned, I will move to plotting each of the areas next to each other on separate axises. "
   ]
  }
 ],
 "metadata": {
  "kernelspec": {
   "display_name": "Python 3",
   "language": "python",
   "name": "python3"
  },
  "language_info": {
   "codemirror_mode": {
    "name": "ipython",
    "version": 3
   },
   "file_extension": ".py",
   "mimetype": "text/x-python",
   "name": "python",
   "nbconvert_exporter": "python",
   "pygments_lexer": "ipython3",
   "version": "3.6.3"
  }
 },
 "nbformat": 4,
 "nbformat_minor": 2
}
